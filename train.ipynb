{
 "cells": [
  {
   "cell_type": "code",
   "execution_count": 2,
   "metadata": {},
   "outputs": [
    {
     "name": "stdout",
     "output_type": "stream",
     "text": [
      "Confusion Matrix:\n",
      "[[32  0  0]\n",
      " [ 0  3  7]\n",
      " [ 0  0 78]]\n",
      "\n",
      "Classification Report:\n",
      "                precision    recall  f1-score   support\n",
      "\n",
      " wrinkle_berat       1.00      1.00      1.00        32\n",
      "wrinkle_ringan       1.00      0.30      0.46        10\n",
      "wrinkle_sedang       0.92      1.00      0.96        78\n",
      "\n",
      "      accuracy                           0.94       120\n",
      "     macro avg       0.97      0.77      0.81       120\n",
      "  weighted avg       0.95      0.94      0.93       120\n",
      "\n",
      "Akurasi Model: 0.9417\n",
      "Cross-validation scores: [0.96875    0.97916667 0.96875    0.98958333 0.97916667]\n",
      "Average cross-validation score: 0.9771\n",
      "Prediksi untuk Data Uji 1:\n",
      "Prediksi: wrinkle_sedang\n",
      "Probabilitas: [0.00248324 0.01528808 0.98222868]\n",
      "Confidence: 0.9822\n",
      "\n",
      "Prediksi untuk Data Uji 2:\n",
      "Prediksi: wrinkle_ringan\n",
      "Probabilitas: [8.25308059e-09 5.22954075e-01 4.77045917e-01]\n",
      "Confidence: 0.5230\n",
      "\n",
      "Prediksi untuk Data Uji 3:\n",
      "Prediksi: wrinkle_berat\n",
      "Probabilitas: [0.64663761 0.00085767 0.35250473]\n",
      "Confidence: 0.6466\n",
      "\n",
      "Prediksi untuk Data Uji 4:\n",
      "Prediksi: wrinkle_sedang\n",
      "Probabilitas: [0.00538707 0.0121564  0.98245653]\n",
      "Confidence: 0.9825\n",
      "\n",
      "Prediksi untuk Data Uji 5:\n",
      "Prediksi: wrinkle_berat\n",
      "Probabilitas: [7.34578322e-01 1.73365007e-04 2.65248313e-01]\n",
      "Confidence: 0.7346\n",
      "\n",
      "Prediksi untuk Data Uji 6:\n",
      "Prediksi: wrinkle_sedang\n",
      "Probabilitas: [4.31093589e-10 4.96737178e-01 5.03262821e-01]\n",
      "Confidence: 0.5033\n",
      "\n",
      "Prediksi untuk Data Uji 7:\n",
      "Prediksi: wrinkle_berat\n",
      "Probabilitas: [8.11960189e-01 1.75814923e-04 1.87863996e-01]\n",
      "Confidence: 0.8120\n",
      "\n",
      "Prediksi untuk Data Uji 8:\n",
      "Prediksi: wrinkle_sedang\n",
      "Probabilitas: [0.00472538 0.02468027 0.97059435]\n",
      "Confidence: 0.9706\n",
      "\n",
      "Prediksi untuk Data Uji 9:\n",
      "Prediksi: wrinkle_sedang\n",
      "Probabilitas: [4.98655401e-10 4.93525418e-01 5.06474582e-01]\n",
      "Confidence: 0.5065\n",
      "\n",
      "Prediksi untuk Data Uji 10:\n",
      "Prediksi: wrinkle_sedang\n",
      "Probabilitas: [8.47410745e-06 4.87296636e-01 5.12694890e-01]\n",
      "Confidence: 0.5127\n",
      "\n"
     ]
    }
   ],
   "source": [
    "# 1. Mengimpor pustaka yang diperlukan\n",
    "import pandas as pd\n",
    "from sklearn.model_selection import train_test_split, cross_val_score, StratifiedKFold\n",
    "from sklearn.preprocessing import StandardScaler, LabelEncoder\n",
    "from sklearn.linear_model import LogisticRegression\n",
    "from sklearn.metrics import classification_report, confusion_matrix, accuracy_score\n",
    "\n",
    "# 2. Memuat dataset wrinkle5.csv\n",
    "data = pd.read_csv('hasil_deteksi_kerutan_total_pixel.csv')\n",
    "\n",
    "# 3. Mengganti nama label sesuai dengan nama folder\n",
    "label_mapping = {\n",
    "    'wrinkle ringan': 'wrinkle_ringan',\n",
    "    'wrinkle sedang': 'wrinkle_sedang',\n",
    "    'wrinkle berat': 'wrinkle_berat'\n",
    "}\n",
    "data['label'] = data['label'].map(label_mapping)\n",
    "\n",
    "# 4. Menentukan fitur (X) dan target (y) dari dataset\n",
    "X = data.drop(columns=['label', 'image_idx'])\n",
    "y = data['label']\n",
    "\n",
    "# 5. Membagi data menjadi data latih dan data uji\n",
    "X_train, X_test, y_train, y_test = train_test_split(X, y, test_size=0.2, random_state=42)\n",
    "\n",
    "# 6. Standarisasi data\n",
    "scaler = StandardScaler()\n",
    "X_train_scaled = scaler.fit_transform(X_train)\n",
    "X_test_scaled = scaler.transform(X_test)\n",
    "\n",
    "# 7. Membuat model Logistic Regression dengan regularisasi dan penyesuaian class_weight\n",
    "# Menyesuaikan parameter C untuk regularisasi dan menggunakan solver yang lebih stabil seperti 'liblinear' untuk ukuran data kecil\n",
    "model = LogisticRegression(class_weight='balanced', random_state=42, C=0.5, solver='liblinear')\n",
    "\n",
    "# 8. Melatih model dengan data latih\n",
    "model.fit(X_train_scaled, y_train)\n",
    "\n",
    "# 9. Memprediksi dengan data uji\n",
    "y_pred = model.predict(X_test_scaled)\n",
    "probabilitas = model.predict_proba(X_test_scaled)  # Mendapatkan probabilitas untuk kelas\n",
    "\n",
    "# 10. Menampilkan hasil evaluasi model\n",
    "print(\"Confusion Matrix:\")\n",
    "print(confusion_matrix(y_test, y_pred))\n",
    "\n",
    "print(\"\\nClassification Report:\")\n",
    "print(classification_report(y_test, y_pred))\n",
    "\n",
    "# 11. Menampilkan akurasi\n",
    "accuracy = accuracy_score(y_test, y_pred)\n",
    "print(f\"Akurasi Model: {accuracy:.4f}\")\n",
    "\n",
    "# 12. Evaluasi menggunakan Cross-validation dengan Stratified K-Fold (lebih baik untuk dataset yang tidak seimbang)\n",
    "skf = StratifiedKFold(n_splits=5, shuffle=True, random_state=42)\n",
    "cross_val_scores = cross_val_score(model, X_train_scaled, y_train, cv=skf)\n",
    "print(f\"Cross-validation scores: {cross_val_scores}\")\n",
    "print(f\"Average cross-validation score: {cross_val_scores.mean():.4f}\")\n",
    "\n",
    "# 13. Menampilkan probabilitas dan confidence untuk data uji pertama (contoh)\n",
    "for i in range(10):  # Menampilkan beberapa probabilitas\n",
    "    print(f\"Prediksi untuk Data Uji {i + 1}:\")\n",
    "    print(f\"Prediksi: {y_pred[i]}\")\n",
    "    print(f\"Probabilitas: {probabilitas[i]}\")\n",
    "    confidence = max(probabilitas[i])  # Confidence untuk kelas yang dipilih\n",
    "    print(f\"Confidence: {confidence:.4f}\\n\")\n"
   ]
  },
  {
   "cell_type": "code",
   "execution_count": 3,
   "metadata": {},
   "outputs": [
    {
     "name": "stdout",
     "output_type": "stream",
     "text": [
      "Scaler berhasil disimpan.\n"
     ]
    }
   ],
   "source": [
    "import joblib\n",
    "\n",
    "# Menyimpan scaler ke file\n",
    "joblib.dump(scaler, 'scaler_model.pkl')\n",
    "print(\"Scaler berhasil disimpan.\")\n"
   ]
  },
  {
   "cell_type": "code",
   "execution_count": 4,
   "metadata": {},
   "outputs": [
    {
     "name": "stdout",
     "output_type": "stream",
     "text": [
      "Model telah disimpan sebagai logistic_regression_model.pkl\n"
     ]
    }
   ],
   "source": [
    "import joblib\n",
    "\n",
    "# Simpan model ke file\n",
    "joblib.dump(model, 'logistic_regression_model.pkl')\n",
    "print(\"Model telah disimpan sebagai logistic_regression_model.pkl\")\n"
   ]
  }
 ],
 "metadata": {
  "kernelspec": {
   "display_name": "base",
   "language": "python",
   "name": "python3"
  },
  "language_info": {
   "codemirror_mode": {
    "name": "ipython",
    "version": 3
   },
   "file_extension": ".py",
   "mimetype": "text/x-python",
   "name": "python",
   "nbconvert_exporter": "python",
   "pygments_lexer": "ipython3",
   "version": "3.12.4"
  }
 },
 "nbformat": 4,
 "nbformat_minor": 2
}
